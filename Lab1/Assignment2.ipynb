{
  "nbformat": 4,
  "nbformat_minor": 0,
  "metadata": {
    "accelerator": "GPU",
    "colab": {
      "name": "l01c01_introduction_to_colab_and_python.ipynb",
      "provenance": [],
      "collapsed_sections": [],
      "toc_visible": true
    },
    "kernelspec": {
      "display_name": "Python 3",
      "name": "python3"
    }
  },
  "cells": [
    {
      "cell_type": "markdown",
      "metadata": {
        "id": "Gj3l8rngfTqe"
      },
      "source": [
        "***1. Calculate sum and average of first n natural numbers.***"
      ]
    },
    {
      "cell_type": "code",
      "metadata": {
        "colab": {
          "base_uri": "https://localhost:8080/"
        },
        "id": "bjV3bmTEfrMc",
        "outputId": "2b144175-7115-4c06-d5b4-e5e4dfbf85d2"
      },
      "source": [
        "def avgOfFirstN(n) :\n",
        "    return (float)(1 + n) / 2;\n",
        "def sumOfFirstN(n) :\n",
        "    return (float)(n*(n+1)) / 2;\n",
        "n = int(input(\"Enter any natural No. \"));\n",
        "if(n <= 0):\n",
        "    print(\"Invalid Input\");\n",
        "else:\n",
        "    print(avgOfFirstN(n));\n",
        "    print(sumOfFirstN(n));"
      ],
      "execution_count": 8,
      "outputs": [
        {
          "output_type": "stream",
          "name": "stdout",
          "text": [
            "Enter any natural No. 5\n",
            "3.0\n",
            "15.0\n"
          ]
        }
      ]
    },
    {
      "cell_type": "markdown",
      "metadata": {
        "id": "CLeDUsLNf75N"
      },
      "source": [
        "***2. Print first 10 number using a for loop.***\n"
      ]
    },
    {
      "cell_type": "code",
      "metadata": {
        "colab": {
          "base_uri": "https://localhost:8080/"
        },
        "id": "EeMoQmS9gNtA",
        "outputId": "77fe395b-0733-4ba1-c24e-3ebd434a6953"
      },
      "source": [
        "for i in range(1,11):\n",
        "  print(i);"
      ],
      "execution_count": 9,
      "outputs": [
        {
          "output_type": "stream",
          "name": "stdout",
          "text": [
            "1\n",
            "2\n",
            "3\n",
            "4\n",
            "5\n",
            "6\n",
            "7\n",
            "8\n",
            "9\n",
            "10\n"
          ]
        }
      ]
    },
    {
      "cell_type": "markdown",
      "metadata": {
        "id": "SBichXADgWv2"
      },
      "source": [
        "***3. Find the factorial of a given number.***"
      ]
    },
    {
      "cell_type": "code",
      "metadata": {
        "colab": {
          "base_uri": "https://localhost:8080/"
        },
        "id": "6uDxZAMBglSB",
        "outputId": "a2f80f6a-8abd-48ca-a99f-3133852fb235"
      },
      "source": [
        "def factorial(n):\n",
        "    if(n == 1 or n == 0):\n",
        "        return 1\n",
        "    else:\n",
        "        return  n * factorial(n - 1)\n",
        "    \n",
        "num = int(input(\"Enter a no: \"));\n",
        "if(num < 0):\n",
        "    print(\"Invalid Input\");\n",
        "else:\n",
        "    print(\"Factorial of\",num,\"is\",factorial(num))"
      ],
      "execution_count": 10,
      "outputs": [
        {
          "output_type": "stream",
          "name": "stdout",
          "text": [
            "Enter a no: 4\n",
            "Factorial of 4 is 24\n"
          ]
        }
      ]
    },
    {
      "cell_type": "markdown",
      "metadata": {
        "id": "bUS3lFHenG_5"
      },
      "source": [
        "***4. Create a 5x2 integer array from a range between 100 to 200 such that the difference between each element is 10.***\n"
      ]
    },
    {
      "cell_type": "code",
      "metadata": {
        "colab": {
          "base_uri": "https://localhost:8080/"
        },
        "id": "CcKmz13MnKkm",
        "outputId": "7ee45020-1781-452b-c9e0-462536ba657c"
      },
      "source": [
        "import numpy as np\n",
        "array = np.arange(100, 200, 10);\n",
        "array = array.reshape(5,2)\n",
        "print(array);"
      ],
      "execution_count": 12,
      "outputs": [
        {
          "output_type": "stream",
          "name": "stdout",
          "text": [
            "[[100 110]\n",
            " [120 130]\n",
            " [140 150]\n",
            " [160 170]\n",
            " [180 190]]\n"
          ]
        }
      ]
    },
    {
      "cell_type": "markdown",
      "metadata": {
        "id": "qxUNekCvoX5O"
      },
      "source": [
        "***5. Create two 2-D arrays and plot them using matplotlib. (use numpy and matplotlib libraries)***"
      ]
    },
    {
      "cell_type": "code",
      "metadata": {
        "colab": {
          "base_uri": "https://localhost:8080/",
          "height": 471
        },
        "id": "QSz5eNxApDt9",
        "outputId": "12963707-4af1-4ead-f398-aec76d22f998"
      },
      "source": [
        "import matplotlib.pyplot as plt\n",
        "import numpy as npy\n",
        "arr1 = npy.array([[1,2,3],[4,5,6]]);\n",
        "arr2 = npy.array([[10,20,30,40],[5,60,15,18]]);\n",
        "plt.imshow(arr1);\n",
        "plt.show();\n",
        "plt.imshow(arr2);\n",
        "plt.show();\n"
      ],
      "execution_count": 20,
      "outputs": [
        {
          "output_type": "display_data",
          "data": {
            "image/png": "[encoded data removed]",
            "text/plain": [
              "<Figure size 432x288 with 1 Axes>"
            ]
          },
          "metadata": {
            "needs_background": "light"
          }
        },
        {
          "output_type": "display_data",
          "data": {
            "image/png": "[encoded data removed]",
            "text/plain": [
              "<Figure size 432x288 with 1 Axes>"
            ]
          },
          "metadata": {
            "needs_background": "light"
          }
        }
      ]
    },
    {
      "cell_type": "markdown",
      "metadata": {
        "id": "KicB_rmIqmBf"
      },
      "source": [
        "***6. given a two list create a third by picking an odd index element from the 1st list and the even index element from 2nd list.***"
      ]
    },
    {
      "cell_type": "code",
      "metadata": {
        "colab": {
          "base_uri": "https://localhost:8080/"
        },
        "id": "6HQNoVmNrUfb",
        "outputId": "a89b3781-20b6-4b8c-f722-dd744bf1a476"
      },
      "source": [
        "list1 = [10,20,30,40,50]\n",
        "list2 = [9,19,29,39,49]\n",
        "list3 = list()\n",
        "oddElements = list1[1::2]\n",
        "EvenElement = list2[0::2]\n",
        "list3.extend(oddElements)\n",
        "list3.extend(EvenElement)\n",
        "print(list3)\n"
      ],
      "execution_count": 23,
      "outputs": [
        {
          "output_type": "stream",
          "name": "stdout",
          "text": [
            "[20, 40, 9, 29, 49]\n"
          ]
        }
      ]
    },
    {
      "cell_type": "markdown",
      "metadata": {
        "id": "OusJRsyVsHuj"
      },
      "source": [
        "***7. Generate 3 random integers between 100 and 999 which is divisible by 5.***\n"
      ]
    },
    {
      "cell_type": "code",
      "metadata": {
        "colab": {
          "base_uri": "https://localhost:8080/"
        },
        "id": "Or4qvy1ksVOb",
        "outputId": "fad2eb73-afda-4c33-c8e7-d88f715bc746"
      },
      "source": [
        "import random\n",
        "for i in range(3):\n",
        "  print(random.randrange(100, 999, 5));\n"
      ],
      "execution_count": 26,
      "outputs": [
        {
          "output_type": "stream",
          "name": "stdout",
          "text": [
            "475\n",
            "940\n",
            "370\n"
          ]
        }
      ]
    },
    {
      "cell_type": "markdown",
      "metadata": {
        "id": "ILXHD1dDs0Kh"
      },
      "source": [
        "***8. Random Lottery pick. Generate 100 Random lottery tickets and pick two lucky tickets from it as a winner.***\n",
        "\n"
      ]
    },
    {
      "cell_type": "code",
      "metadata": {
        "colab": {
          "base_uri": "https://localhost:8080/"
        },
        "id": "fBfZqwC7tAZw",
        "outputId": "fcd1115c-4e8a-4d25-fa2a-cf67bc9c3aa5"
      },
      "source": [
        "import random,sys\n",
        "\n",
        "lotTickList = [];\n",
        "for i in range(100):\n",
        "    lotTickList.append(random.randint(0, sys.maxsize));\n",
        "selectedTickets = random.sample(lotTickList, 2);\n",
        "print(\"Lucky 2 lottery tickets are\", selectedTickets);"
      ],
      "execution_count": 29,
      "outputs": [
        {
          "output_type": "stream",
          "name": "stdout",
          "text": [
            "Lucky 2 lottery tickets are [1727221262186121683, 6812900074987493973]\n"
          ]
        }
      ]
    },
    {
      "cell_type": "markdown",
      "metadata": {
        "id": "P2Hynq9Pu1KS"
      },
      "source": [
        "***9. Generate random String of length five.***\n"
      ]
    },
    {
      "cell_type": "code",
      "metadata": {
        "colab": {
          "base_uri": "https://localhost:8080/"
        },
        "id": "Ml4xQhiwvBYo",
        "outputId": "60600153-747c-4ae3-f001-30b4c71d989b"
      },
      "source": [
        "import string,random\n",
        "res = ''.join(random.choices(string.ascii_letters + string.punctuation + string.digits, k = 5))\n",
        "print(\"Random string is: \" + str(res))\n"
      ],
      "execution_count": 55,
      "outputs": [
        {
          "output_type": "stream",
          "name": "stdout",
          "text": [
            "Random string is: pi_hZ\n"
          ]
        }
      ]
    },
    {
      "cell_type": "markdown",
      "metadata": {
        "id": "gzPkMDwlwmFO"
      },
      "source": [
        "***10. Pick a random charater from a given string.***"
      ]
    },
    {
      "cell_type": "code",
      "metadata": {
        "colab": {
          "base_uri": "https://localhost:8080/"
        },
        "id": "VZUg0q_Iw0y1",
        "outputId": "a7cbe06e-388f-4fa1-cecc-bd807a4cd857"
      },
      "source": [
        "import random\n",
        "string = str(input(\"Enter a string: \"))\n",
        "print(\"Random character is: \",random.choice(string))\n"
      ],
      "execution_count": 57,
      "outputs": [
        {
          "output_type": "stream",
          "name": "stdout",
          "text": [
            "Enter a string: asdfgh\n",
            "Random character is:  f\n"
          ]
        }
      ]
    }
  ]
}